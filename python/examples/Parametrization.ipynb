{
 "cells": [
  {
   "cell_type": "code",
   "execution_count": null,
   "metadata": {},
   "outputs": [],
   "source": [
    "import sys; sys.path.append('..')\n",
    "import MeshFEM\n",
    "import mesh, parametrization, param_utils\n",
    "from tri_mesh_viewer import TriMeshViewer\n",
    "from matplotlib import pyplot as plt\n",
    "import numpy as np"
   ]
  },
  {
   "cell_type": "code",
   "execution_count": null,
   "metadata": {},
   "outputs": [],
   "source": [
    "m = mesh.Mesh('../../examples/meshes/lilium.msh', degree=1)"
   ]
  },
  {
   "cell_type": "code",
   "execution_count": null,
   "metadata": {},
   "outputs": [],
   "source": [
    "uvs = {\n",
    "    'LSCM':      parametrization.lscm(m),\n",
    "    'SCP I_B':   parametrization.scp(m, parametrization.SCPInnerProduct.I_B,   eps=1e-15),\n",
    "    'SCP Mass':  parametrization.scp(m, parametrization.SCPInnerProduct.Mass,  eps=1e-15),\n",
    "    'SCP BMass': parametrization.scp(m, parametrization.SCPInnerProduct.BMass, eps=1e-15)\n",
    "}"
   ]
  },
  {
   "cell_type": "code",
   "execution_count": null,
   "metadata": {},
   "outputs": [],
   "source": [
    "summary = lambda d: (np.max(d), np.median(d), np.mean(d), np.min(d))\n",
    "for name, stat in [('Quasi-Conformal Distortions', parametrization.conformalDistortion),\n",
    "                   ('Scale Factors',               parametrization.scaleFactor)]:\n",
    "    print(name)\n",
    "    for k, uv in uvs.items(): print(f'{k}: {summary(stat(m, uv))}')\n",
    "    print()"
   ]
  },
  {
   "cell_type": "code",
   "execution_count": null,
   "metadata": {},
   "outputs": [],
   "source": [
    "param_utils.analysisPlots(m, uvs, bins=500)"
   ]
  },
  {
   "cell_type": "code",
   "execution_count": null,
   "metadata": {},
   "outputs": [],
   "source": [
    "view = param_utils.ParametrizationViewer(m, uvs['SCP Mass'])\n",
    "view.show()"
   ]
  },
  {
   "cell_type": "code",
   "execution_count": null,
   "metadata": {},
   "outputs": [],
   "source": [
    "#view.displayField(param_utils.AnalysisField.DISTORTION)\n",
    "view.displayField(param_utils.AnalysisField.SCALE)"
   ]
  },
  {
   "cell_type": "code",
   "execution_count": null,
   "metadata": {},
   "outputs": [],
   "source": [
    "view.update_parametrization(uvs['SCP Mass'])"
   ]
  },
  {
   "cell_type": "code",
   "execution_count": null,
   "metadata": {},
   "outputs": [],
   "source": [
    "view.update_parametrization(uvs['SCP I_B'])"
   ]
  },
  {
   "cell_type": "code",
   "execution_count": null,
   "metadata": {},
   "outputs": [],
   "source": [
    "view.update_parametrization(uvs['SCP BMass'])"
   ]
  },
  {
   "cell_type": "code",
   "execution_count": null,
   "metadata": {},
   "outputs": [],
   "source": [
    "view.update_parametrization(uvs['LSCM'])"
   ]
  }
 ],
 "metadata": {
  "kernelspec": {
   "display_name": "Python 3",
   "language": "python",
   "name": "python3"
  },
  "language_info": {
   "codemirror_mode": {
    "name": "ipython",
    "version": 3
   },
   "file_extension": ".py",
   "mimetype": "text/x-python",
   "name": "python",
   "nbconvert_exporter": "python",
   "pygments_lexer": "ipython3",
   "version": "3.9.6"
  }
 },
 "nbformat": 4,
 "nbformat_minor": 4
}
